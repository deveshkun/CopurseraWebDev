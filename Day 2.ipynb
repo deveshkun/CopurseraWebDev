{
  "metadata": {
    "kernelspec": {
      "name": "python",
      "display_name": "Python (Pyodide)",
      "language": "python"
    },
    "language_info": {
      "codemirror_mode": {
        "name": "python",
        "version": 3
      },
      "file_extension": ".py",
      "mimetype": "text/x-python",
      "name": "python",
      "nbconvert_exporter": "python",
      "pygments_lexer": "ipython3",
      "version": "3.8"
    }
  },
  "nbformat_minor": 4,
  "nbformat": 4,
  "cells": [
    {
      "cell_type": "markdown",
      "source": "Day 3 \n\nBaics of programing\n\n1 - interpreted vs compiled\n2 - Programing L - tells computer what to do\n  - Computer lang is called machine code\n\n  - we have human readable languages\n\n\nIntrepreted languages are also called Scripted or scripting languages\nsource code need to be executed everytime",
      "metadata": {}
    },
    {
      "cell_type": "markdown",
      "source": "EXamples of interpreted languages\n\nJS - cripting language that runs through web browser interpreter\nPython - easy to use\nlua - game scripting lang",
      "metadata": {}
    },
    {
      "cell_type": "markdown",
      "source": "Compiled programing lkanguages\n\n- programs that you run on your computer packed or compiled into one file\n- compiled programs are used to solve more challenging problems like interpreting source code\n  - make exe files which directly run on our device\n\n\neg - C,C++,C#,Java,\ncompiled program example - operationg system",
      "metadata": {}
    },
    {
      "cell_type": "markdown",
      "source": "Advantages of Interpreted languages\n\n1 - available across multiple platforms or in the cloud\n2 - easiear to learn and use\n3 - better for websited and smaller repetated processes\n\nAdvantages of Compiled languages\n\n1 - same os system coded in the same language\n2 - more difficult to learn and use\n3 - better for larger task like os",
      "metadata": {}
    },
    {
      "cell_type": "markdown",
      "source": "Query and assembly programing languages\n\nHigh level PL\n    - use common language\n    - More sophisticated\n    - SQL ,Pascal ,Python\nLow level PL\n    - Use simple symbols to represent machine code\n    - Assembly - eg - ARM, MIPS ,X86\nQuery Language\n    - request for info from a database\n    - the db search for the requested information and returns the rresult\n    - both user app and db handling the query are using same language\n    - Query: writing a predefined and understandable instructuions to make a request to a db\n    - SQL\n    \nDifference between SQL and NoSQL is difference between there data structures\n\nSQl - Relational\n    - use structured and predefined schemes\nNoSQL - Non relational\n      - Dynamic Schema or unstructured data\n\nQuery language can do CRUD Operatiions",
      "metadata": {}
    }
  ]
}